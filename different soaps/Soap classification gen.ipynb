{
    "cells": [
        {
            "cell_type": "code",
            "execution_count": 1,
            "source": [
                "import numpy as np \r\n",
                "import pandas as pd\r\n",
                "import matplotlib.pyplot as plt\r\n",
                "import seaborn as sns\r\n",
                "%matplotlib inline"
            ],
            "outputs": [],
            "metadata": {}
        },
        {
            "cell_type": "code",
            "execution_count": 2,
            "source": [
                "col_val = ['O3', 'SO2', 'H2S', 'IAQ', 'CO', 'EtOH', 'RESP', 'NO2']"
            ],
            "outputs": [],
            "metadata": {}
        },
        {
            "cell_type": "code",
            "execution_count": 7,
            "source": [
                "control = pd.read_csv('data/control3.csv', header=None, names=col_val)\r\n",
                "lux = pd.read_csv('data/lux.csv', header=None, names=col_val)\r\n",
                "shokubutsu = pd.read_csv('data/shokubutsu.csv', header=None, names=col_val)"
            ],
            "outputs": [],
            "metadata": {}
        },
        {
            "cell_type": "code",
            "execution_count": 8,
            "source": [
                "control['target'] = 'control'\r\n",
                "lux['target'] = 'lux'\r\n",
                "shokubutsu['target'] = 'shokubutsu'"
            ],
            "outputs": [],
            "metadata": {}
        },
        {
            "cell_type": "code",
            "execution_count": 9,
            "source": [
                "df = pd.concat([control, lux, shokubutsu])"
            ],
            "outputs": [],
            "metadata": {}
        },
        {
            "cell_type": "code",
            "execution_count": 11,
            "source": [
                "from sklearn.model_selection import train_test_split\r\n",
                "from sklearn.linear_model import LogisticRegression\r\n",
                "from sklearn.neighbors import KNeighborsClassifier\r\n",
                "from sklearn import metrics"
            ],
            "outputs": [],
            "metadata": {}
        },
        {
            "cell_type": "code",
            "execution_count": 16,
            "source": [
                "X = df.drop('target', axis=1)\r\n",
                "y = df['target']\r\n",
                "\r\n",
                "X_train, X_test, y_train, y_test = train_test_split(X, y, test_size=0.33, random_state=42)"
            ],
            "outputs": [],
            "metadata": {}
        },
        {
            "cell_type": "code",
            "execution_count": 23,
            "source": [
                "train_df = pd.concat([X_train, y_train], axis=1)\r\n",
                "train_df.to_csv('soap_train.csv',index=False, header=False)"
            ],
            "outputs": [],
            "metadata": {}
        },
        {
            "cell_type": "code",
            "execution_count": 25,
            "source": [
                "X_test.to_csv('soap_test.csv', index=False, header=False)"
            ],
            "outputs": [],
            "metadata": {}
        },
        {
            "cell_type": "code",
            "execution_count": 14,
            "source": [
                "#logistic model \r\n",
                "log_mod = LogisticRegression(max_iter=3000)\r\n",
                "log_mod.fit(X_train, y_train)\r\n",
                "log_pred = log_mod.predict(X_test)"
            ],
            "outputs": [],
            "metadata": {}
        },
        {
            "cell_type": "code",
            "execution_count": 15,
            "source": [
                "print(metrics.classification_report(y_test, log_pred))\r\n",
                "print(metrics.confusion_matrix(y_test, log_pred))"
            ],
            "outputs": [
                {
                    "output_type": "stream",
                    "name": "stdout",
                    "text": [
                        "              precision    recall  f1-score   support\n",
                        "\n",
                        "     control       0.98      0.78      0.87        58\n",
                        "         lux       1.00      0.97      0.99        74\n",
                        "  shokubutsu       0.81      0.98      0.89        66\n",
                        "\n",
                        "    accuracy                           0.92       198\n",
                        "   macro avg       0.93      0.91      0.91       198\n",
                        "weighted avg       0.93      0.92      0.92       198\n",
                        "\n",
                        "[[45  0 13]\n",
                        " [ 0 72  2]\n",
                        " [ 1  0 65]]\n"
                    ]
                }
            ],
            "metadata": {}
        },
        {
            "cell_type": "code",
            "execution_count": 26,
            "source": [
                "score = []\r\n",
                "k_range = range(1, 40)\r\n",
                "for i in k_range:\r\n",
                "    knn = KNeighborsClassifier(n_neighbors=i)\r\n",
                "    knn.fit(X_train, y_train)\r\n",
                "    y_pred = knn.predict(X_test)\r\n",
                "    score.append(metrics.accuracy_score(y_test, y_pred))"
            ],
            "outputs": [],
            "metadata": {}
        },
        {
            "cell_type": "code",
            "execution_count": 27,
            "source": [
                "plt.plot(k_range, score, '-o')"
            ],
            "outputs": [
                {
                    "output_type": "execute_result",
                    "data": {
                        "text/plain": [
                            "[<matplotlib.lines.Line2D at 0x277d9710fa0>]"
                        ]
                    },
                    "metadata": {},
                    "execution_count": 27
                },
                {
                    "output_type": "display_data",
                    "data": {
                        "text/plain": [
                            "<Figure size 432x288 with 1 Axes>"
                        ],
                        "image/png": "[encoded data removed]"
                    },
                    "metadata": {
                        "needs_background": "light"
                    }
                }
            ],
            "metadata": {}
        },
        {
            "cell_type": "code",
            "execution_count": 28,
            "source": [
                "score.index(max(score))"
            ],
            "outputs": [
                {
                    "output_type": "execute_result",
                    "data": {
                        "text/plain": [
                            "5"
                        ]
                    },
                    "metadata": {},
                    "execution_count": 28
                }
            ],
            "metadata": {}
        },
        {
            "cell_type": "code",
            "execution_count": 29,
            "source": [
                "knn = KNeighborsClassifier(n_neighbors=5)\r\n",
                "knn.fit(X_train, y_train)\r\n",
                "knn_pred = knn.predict(X_test)\r\n"
            ],
            "outputs": [],
            "metadata": {}
        },
        {
            "cell_type": "code",
            "execution_count": 30,
            "source": [
                "print(metrics.classification_report(y_test, knn_pred))\r\n",
                "print(metrics.confusion_matrix(y_test, knn_pred))"
            ],
            "outputs": [
                {
                    "output_type": "stream",
                    "name": "stdout",
                    "text": [
                        "              precision    recall  f1-score   support\n",
                        "\n",
                        "     control       0.94      0.53      0.68        58\n",
                        "         lux       1.00      0.99      0.99        74\n",
                        "  shokubutsu       0.70      0.97      0.81        66\n",
                        "\n",
                        "    accuracy                           0.85       198\n",
                        "   macro avg       0.88      0.83      0.83       198\n",
                        "weighted avg       0.88      0.85      0.84       198\n",
                        "\n",
                        "[[31  0 27]\n",
                        " [ 0 73  1]\n",
                        " [ 2  0 64]]\n"
                    ]
                }
            ],
            "metadata": {}
        },
        {
            "cell_type": "code",
            "execution_count": 36,
            "source": [
                "report = metrics.classification_report(y_test, knn_pred)\r\n",
                "conf_mat = metrics.confusion_matrix(y_test, knn_pred)\r\n",
                "\r\n",
                "print(f\"Classification report is:\\n{report}\")\r\n",
                "print(f\"Confusion matrix:\\n{conf_mat}\")"
            ],
            "outputs": [
                {
                    "output_type": "stream",
                    "name": "stdout",
                    "text": [
                        "Classification report is:\n",
                        "              precision    recall  f1-score   support\n",
                        "\n",
                        "     control       0.94      0.53      0.68        58\n",
                        "         lux       1.00      0.99      0.99        74\n",
                        "  shokubutsu       0.70      0.97      0.81        66\n",
                        "\n",
                        "    accuracy                           0.85       198\n",
                        "   macro avg       0.88      0.83      0.83       198\n",
                        "weighted avg       0.88      0.85      0.84       198\n",
                        "\n",
                        "Confusion matrix:\n",
                        "[[31  0 27]\n",
                        " [ 0 73  1]\n",
                        " [ 2  0 64]]\n"
                    ]
                }
            ],
            "metadata": {}
        },
        {
            "cell_type": "code",
            "execution_count": null,
            "source": [],
            "outputs": [],
            "metadata": {}
        }
    ],
    "metadata": {
        "orig_nbformat": 4,
        "language_info": {
            "name": "python",
            "version": "3.8.8",
            "mimetype": "text/x-python",
            "codemirror_mode": {
                "name": "ipython",
                "version": 3
            },
            "pygments_lexer": "ipython3",
            "nbconvert_exporter": "python",
            "file_extension": ".py"
        },
        "kernelspec": {
            "name": "python3",
            "display_name": "Python 3.8.8 64-bit ('base': conda)"
        },
        "interpreter": {
            "hash": "75cb2431fcf906a975d25919cf7e48dab511656018bdb303743cdad2c53f6de2"
        }
    },
    "nbformat": 4,
    "nbformat_minor": 2
}