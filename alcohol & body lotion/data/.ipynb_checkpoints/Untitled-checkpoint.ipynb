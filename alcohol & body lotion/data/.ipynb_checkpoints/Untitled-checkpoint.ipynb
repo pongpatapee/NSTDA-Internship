{
 "cells": [
  {
   "cell_type": "code",
   "execution_count": 1,
   "id": "79c7e49f",
   "metadata": {},
   "outputs": [],
   "source": [
    "import numpy as np\n",
    "import pandas as pd"
   ]
  },
  {
   "cell_type": "code",
   "execution_count": 17,
   "id": "77f8b80b",
   "metadata": {},
   "outputs": [],
   "source": [
    "col_val = ['s1', 's2', 's3', 's4', 's5', 's6', 's7', 's8']\n",
    "data = pd.read_csv('test.log')"
   ]
  },
  {
   "cell_type": "code",
   "execution_count": 19,
   "id": "3068b5ec",
   "metadata": {},
   "outputs": [
    {
     "data": {
      "text/html": [
       "<div>\n",
       "<style scoped>\n",
       "    .dataframe tbody tr th:only-of-type {\n",
       "        vertical-align: middle;\n",
       "    }\n",
       "\n",
       "    .dataframe tbody tr th {\n",
       "        vertical-align: top;\n",
       "    }\n",
       "\n",
       "    .dataframe thead th {\n",
       "        text-align: right;\n",
       "    }\n",
       "</style>\n",
       "<table border=\"1\" class=\"dataframe\">\n",
       "  <thead>\n",
       "    <tr style=\"text-align: right;\">\n",
       "      <th></th>\n",
       "      <th>2676</th>\n",
       "      <th>2668</th>\n",
       "      <th>2667</th>\n",
       "      <th>2741</th>\n",
       "      <th>2782</th>\n",
       "      <th>2707</th>\n",
       "      <th>2689</th>\n",
       "      <th>2669</th>\n",
       "    </tr>\n",
       "  </thead>\n",
       "  <tbody>\n",
       "    <tr>\n",
       "      <th>0</th>\n",
       "      <td>2704</td>\n",
       "      <td>2668</td>\n",
       "      <td>2668</td>\n",
       "      <td>2842</td>\n",
       "      <td>2866</td>\n",
       "      <td>2716</td>\n",
       "      <td>2666</td>\n",
       "      <td>2668</td>\n",
       "    </tr>\n",
       "    <tr>\n",
       "      <th>1</th>\n",
       "      <td>2695</td>\n",
       "      <td>2668</td>\n",
       "      <td>2668</td>\n",
       "      <td>2826</td>\n",
       "      <td>2837</td>\n",
       "      <td>2720</td>\n",
       "      <td>2673</td>\n",
       "      <td>2668</td>\n",
       "    </tr>\n",
       "    <tr>\n",
       "      <th>2</th>\n",
       "      <td>2660</td>\n",
       "      <td>2668</td>\n",
       "      <td>2668</td>\n",
       "      <td>2747</td>\n",
       "      <td>2760</td>\n",
       "      <td>2709</td>\n",
       "      <td>2676</td>\n",
       "      <td>2668</td>\n",
       "    </tr>\n",
       "    <tr>\n",
       "      <th>3</th>\n",
       "      <td>2593</td>\n",
       "      <td>2668</td>\n",
       "      <td>2667</td>\n",
       "      <td>2725</td>\n",
       "      <td>2770</td>\n",
       "      <td>2706</td>\n",
       "      <td>2667</td>\n",
       "      <td>2669</td>\n",
       "    </tr>\n",
       "    <tr>\n",
       "      <th>4</th>\n",
       "      <td>2673</td>\n",
       "      <td>2668</td>\n",
       "      <td>2667</td>\n",
       "      <td>2741</td>\n",
       "      <td>2785</td>\n",
       "      <td>2694</td>\n",
       "      <td>2672</td>\n",
       "      <td>2668</td>\n",
       "    </tr>\n",
       "  </tbody>\n",
       "</table>\n",
       "</div>"
      ],
      "text/plain": [
       "   2676  2668  2667  2741  2782  2707  2689  2669\n",
       "0  2704  2668  2668  2842  2866  2716  2666  2668\n",
       "1  2695  2668  2668  2826  2837  2720  2673  2668\n",
       "2  2660  2668  2668  2747  2760  2709  2676  2668\n",
       "3  2593  2668  2667  2725  2770  2706  2667  2669\n",
       "4  2673  2668  2667  2741  2785  2694  2672  2668"
      ]
     },
     "execution_count": 19,
     "metadata": {},
     "output_type": "execute_result"
    }
   ],
   "source": [
    "data.head()"
   ]
  },
  {
   "cell_type": "code",
   "execution_count": 20,
   "id": "f80f0f51",
   "metadata": {},
   "outputs": [],
   "source": [
    "test = pd.DataFrame(col_val)"
   ]
  },
  {
   "cell_type": "code",
   "execution_count": null,
   "id": "03f848a9",
   "metadata": {},
   "outputs": [],
   "source": []
  }
 ],
 "metadata": {
  "kernelspec": {
   "display_name": "Python 3",
   "language": "python",
   "name": "python3"
  },
  "language_info": {
   "codemirror_mode": {
    "name": "ipython",
    "version": 3
   },
   "file_extension": ".py",
   "mimetype": "text/x-python",
   "name": "python",
   "nbconvert_exporter": "python",
   "pygments_lexer": "ipython3",
   "version": "3.8.8"
  }
 },
 "nbformat": 4,
 "nbformat_minor": 5
}
