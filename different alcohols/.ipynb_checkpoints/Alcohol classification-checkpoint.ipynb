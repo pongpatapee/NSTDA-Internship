{
 "cells": [
  {
   "cell_type": "code",
   "execution_count": 1,
   "id": "db784b85",
   "metadata": {},
   "outputs": [],
   "source": [
    "import pandas as pd\n",
    "import numpy as np\n",
    "import matplotlib.pyplot as plt\n",
    "import seaborn as sns\n",
    "%matplotlib inline"
   ]
  },
  {
   "cell_type": "code",
   "execution_count": 3,
   "id": "43536adf",
   "metadata": {},
   "outputs": [],
   "source": [
    "control_data = np.genfromtxt('data/control.csv', delimiter=',')\n",
    "alcohol_gel_data = np.genfromtxt('data/alcohol_gel_larvender.csv', delimiter=',')\n",
    "alcohol_75_data = np.genfromtxt('data/alcohol_spray_75p.csv', delimiter=',')"
   ]
  },
  {
   "cell_type": "code",
   "execution_count": null,
   "id": "4ae71935",
   "metadata": {},
   "outputs": [],
   "source": []
  }
 ],
 "metadata": {
  "kernelspec": {
   "display_name": "Python 3",
   "language": "python",
   "name": "python3"
  },
  "language_info": {
   "codemirror_mode": {
    "name": "ipython",
    "version": 3
   },
   "file_extension": ".py",
   "mimetype": "text/x-python",
   "name": "python",
   "nbconvert_exporter": "python",
   "pygments_lexer": "ipython3",
   "version": "3.8.8"
  }
 },
 "nbformat": 4,
 "nbformat_minor": 5
}
