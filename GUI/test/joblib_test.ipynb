{
 "cells": [
  {
   "cell_type": "code",
   "execution_count": 2,
   "source": [
    "import joblib \r\n",
    "from sklearn import linear_model\r\n",
    "import pandas as pd"
   ],
   "outputs": [],
   "metadata": {}
  },
  {
   "cell_type": "code",
   "execution_count": 3,
   "source": [
    "clf = joblib.load('models/logisticReg_mod.joblib')"
   ],
   "outputs": [],
   "metadata": {}
  },
  {
   "cell_type": "code",
   "execution_count": 57,
   "source": [
    "df = pd.read_csv('test_df.csv', header=None)"
   ],
   "outputs": [],
   "metadata": {}
  },
  {
   "cell_type": "code",
   "execution_count": 58,
   "source": [
    "df"
   ],
   "outputs": [
    {
     "output_type": "execute_result",
     "data": {
      "text/plain": [
       "        0     1     2      3      4      5     6     7\n",
       "0    2731  2721  2672   3109   3315   3067  2763  2668\n",
       "1    2705  2718  2670   2941   3132   3032  2751  2668\n",
       "2    2692  2716  2673   3106   3298   3038  2751  2668\n",
       "3    2624  2714  2670   2941   3145   2988  2757  2669\n",
       "4    2711  2712  2673   3173   3359   2989  2732  2669\n",
       "..    ...   ...   ...    ...    ...    ...   ...   ...\n",
       "598   935     7   104  17625  17625  17626  2622  2667\n",
       "599   950     7   104  17626  17625  17625  2637  2666\n",
       "600   938     7   104  17626  17625  17626  2635  2666\n",
       "601   913     6   104  17626  17625  17626  2617  2667\n",
       "602   925     7   104  17627  17625  17626  2626  2667\n",
       "\n",
       "[603 rows x 8 columns]"
      ],
      "text/html": [
       "<div>\n",
       "<style scoped>\n",
       "    .dataframe tbody tr th:only-of-type {\n",
       "        vertical-align: middle;\n",
       "    }\n",
       "\n",
       "    .dataframe tbody tr th {\n",
       "        vertical-align: top;\n",
       "    }\n",
       "\n",
       "    .dataframe thead th {\n",
       "        text-align: right;\n",
       "    }\n",
       "</style>\n",
       "<table border=\"1\" class=\"dataframe\">\n",
       "  <thead>\n",
       "    <tr style=\"text-align: right;\">\n",
       "      <th></th>\n",
       "      <th>0</th>\n",
       "      <th>1</th>\n",
       "      <th>2</th>\n",
       "      <th>3</th>\n",
       "      <th>4</th>\n",
       "      <th>5</th>\n",
       "      <th>6</th>\n",
       "      <th>7</th>\n",
       "    </tr>\n",
       "  </thead>\n",
       "  <tbody>\n",
       "    <tr>\n",
       "      <th>0</th>\n",
       "      <td>2731</td>\n",
       "      <td>2721</td>\n",
       "      <td>2672</td>\n",
       "      <td>3109</td>\n",
       "      <td>3315</td>\n",
       "      <td>3067</td>\n",
       "      <td>2763</td>\n",
       "      <td>2668</td>\n",
       "    </tr>\n",
       "    <tr>\n",
       "      <th>1</th>\n",
       "      <td>2705</td>\n",
       "      <td>2718</td>\n",
       "      <td>2670</td>\n",
       "      <td>2941</td>\n",
       "      <td>3132</td>\n",
       "      <td>3032</td>\n",
       "      <td>2751</td>\n",
       "      <td>2668</td>\n",
       "    </tr>\n",
       "    <tr>\n",
       "      <th>2</th>\n",
       "      <td>2692</td>\n",
       "      <td>2716</td>\n",
       "      <td>2673</td>\n",
       "      <td>3106</td>\n",
       "      <td>3298</td>\n",
       "      <td>3038</td>\n",
       "      <td>2751</td>\n",
       "      <td>2668</td>\n",
       "    </tr>\n",
       "    <tr>\n",
       "      <th>3</th>\n",
       "      <td>2624</td>\n",
       "      <td>2714</td>\n",
       "      <td>2670</td>\n",
       "      <td>2941</td>\n",
       "      <td>3145</td>\n",
       "      <td>2988</td>\n",
       "      <td>2757</td>\n",
       "      <td>2669</td>\n",
       "    </tr>\n",
       "    <tr>\n",
       "      <th>4</th>\n",
       "      <td>2711</td>\n",
       "      <td>2712</td>\n",
       "      <td>2673</td>\n",
       "      <td>3173</td>\n",
       "      <td>3359</td>\n",
       "      <td>2989</td>\n",
       "      <td>2732</td>\n",
       "      <td>2669</td>\n",
       "    </tr>\n",
       "    <tr>\n",
       "      <th>...</th>\n",
       "      <td>...</td>\n",
       "      <td>...</td>\n",
       "      <td>...</td>\n",
       "      <td>...</td>\n",
       "      <td>...</td>\n",
       "      <td>...</td>\n",
       "      <td>...</td>\n",
       "      <td>...</td>\n",
       "    </tr>\n",
       "    <tr>\n",
       "      <th>598</th>\n",
       "      <td>935</td>\n",
       "      <td>7</td>\n",
       "      <td>104</td>\n",
       "      <td>17625</td>\n",
       "      <td>17625</td>\n",
       "      <td>17626</td>\n",
       "      <td>2622</td>\n",
       "      <td>2667</td>\n",
       "    </tr>\n",
       "    <tr>\n",
       "      <th>599</th>\n",
       "      <td>950</td>\n",
       "      <td>7</td>\n",
       "      <td>104</td>\n",
       "      <td>17626</td>\n",
       "      <td>17625</td>\n",
       "      <td>17625</td>\n",
       "      <td>2637</td>\n",
       "      <td>2666</td>\n",
       "    </tr>\n",
       "    <tr>\n",
       "      <th>600</th>\n",
       "      <td>938</td>\n",
       "      <td>7</td>\n",
       "      <td>104</td>\n",
       "      <td>17626</td>\n",
       "      <td>17625</td>\n",
       "      <td>17626</td>\n",
       "      <td>2635</td>\n",
       "      <td>2666</td>\n",
       "    </tr>\n",
       "    <tr>\n",
       "      <th>601</th>\n",
       "      <td>913</td>\n",
       "      <td>6</td>\n",
       "      <td>104</td>\n",
       "      <td>17626</td>\n",
       "      <td>17625</td>\n",
       "      <td>17626</td>\n",
       "      <td>2617</td>\n",
       "      <td>2667</td>\n",
       "    </tr>\n",
       "    <tr>\n",
       "      <th>602</th>\n",
       "      <td>925</td>\n",
       "      <td>7</td>\n",
       "      <td>104</td>\n",
       "      <td>17627</td>\n",
       "      <td>17625</td>\n",
       "      <td>17626</td>\n",
       "      <td>2626</td>\n",
       "      <td>2667</td>\n",
       "    </tr>\n",
       "  </tbody>\n",
       "</table>\n",
       "<p>603 rows × 8 columns</p>\n",
       "</div>"
      ]
     },
     "metadata": {},
     "execution_count": 58
    }
   ],
   "metadata": {}
  },
  {
   "cell_type": "code",
   "execution_count": 61,
   "source": [
    "col_vals = []\r\n",
    "for i in range(df.shape[1]):\r\n",
    "    col_vals.append(f's{i}')\r\n",
    "\r\n",
    "df.columns = col_vals\r\n",
    "df"
   ],
   "outputs": [
    {
     "output_type": "execute_result",
     "data": {
      "text/plain": [
       "       s0    s1    s2     s3     s4     s5    s6    s7\n",
       "0    2731  2721  2672   3109   3315   3067  2763  2668\n",
       "1    2705  2718  2670   2941   3132   3032  2751  2668\n",
       "2    2692  2716  2673   3106   3298   3038  2751  2668\n",
       "3    2624  2714  2670   2941   3145   2988  2757  2669\n",
       "4    2711  2712  2673   3173   3359   2989  2732  2669\n",
       "..    ...   ...   ...    ...    ...    ...   ...   ...\n",
       "598   935     7   104  17625  17625  17626  2622  2667\n",
       "599   950     7   104  17626  17625  17625  2637  2666\n",
       "600   938     7   104  17626  17625  17626  2635  2666\n",
       "601   913     6   104  17626  17625  17626  2617  2667\n",
       "602   925     7   104  17627  17625  17626  2626  2667\n",
       "\n",
       "[603 rows x 8 columns]"
      ],
      "text/html": [
       "<div>\n",
       "<style scoped>\n",
       "    .dataframe tbody tr th:only-of-type {\n",
       "        vertical-align: middle;\n",
       "    }\n",
       "\n",
       "    .dataframe tbody tr th {\n",
       "        vertical-align: top;\n",
       "    }\n",
       "\n",
       "    .dataframe thead th {\n",
       "        text-align: right;\n",
       "    }\n",
       "</style>\n",
       "<table border=\"1\" class=\"dataframe\">\n",
       "  <thead>\n",
       "    <tr style=\"text-align: right;\">\n",
       "      <th></th>\n",
       "      <th>s0</th>\n",
       "      <th>s1</th>\n",
       "      <th>s2</th>\n",
       "      <th>s3</th>\n",
       "      <th>s4</th>\n",
       "      <th>s5</th>\n",
       "      <th>s6</th>\n",
       "      <th>s7</th>\n",
       "    </tr>\n",
       "  </thead>\n",
       "  <tbody>\n",
       "    <tr>\n",
       "      <th>0</th>\n",
       "      <td>2731</td>\n",
       "      <td>2721</td>\n",
       "      <td>2672</td>\n",
       "      <td>3109</td>\n",
       "      <td>3315</td>\n",
       "      <td>3067</td>\n",
       "      <td>2763</td>\n",
       "      <td>2668</td>\n",
       "    </tr>\n",
       "    <tr>\n",
       "      <th>1</th>\n",
       "      <td>2705</td>\n",
       "      <td>2718</td>\n",
       "      <td>2670</td>\n",
       "      <td>2941</td>\n",
       "      <td>3132</td>\n",
       "      <td>3032</td>\n",
       "      <td>2751</td>\n",
       "      <td>2668</td>\n",
       "    </tr>\n",
       "    <tr>\n",
       "      <th>2</th>\n",
       "      <td>2692</td>\n",
       "      <td>2716</td>\n",
       "      <td>2673</td>\n",
       "      <td>3106</td>\n",
       "      <td>3298</td>\n",
       "      <td>3038</td>\n",
       "      <td>2751</td>\n",
       "      <td>2668</td>\n",
       "    </tr>\n",
       "    <tr>\n",
       "      <th>3</th>\n",
       "      <td>2624</td>\n",
       "      <td>2714</td>\n",
       "      <td>2670</td>\n",
       "      <td>2941</td>\n",
       "      <td>3145</td>\n",
       "      <td>2988</td>\n",
       "      <td>2757</td>\n",
       "      <td>2669</td>\n",
       "    </tr>\n",
       "    <tr>\n",
       "      <th>4</th>\n",
       "      <td>2711</td>\n",
       "      <td>2712</td>\n",
       "      <td>2673</td>\n",
       "      <td>3173</td>\n",
       "      <td>3359</td>\n",
       "      <td>2989</td>\n",
       "      <td>2732</td>\n",
       "      <td>2669</td>\n",
       "    </tr>\n",
       "    <tr>\n",
       "      <th>...</th>\n",
       "      <td>...</td>\n",
       "      <td>...</td>\n",
       "      <td>...</td>\n",
       "      <td>...</td>\n",
       "      <td>...</td>\n",
       "      <td>...</td>\n",
       "      <td>...</td>\n",
       "      <td>...</td>\n",
       "    </tr>\n",
       "    <tr>\n",
       "      <th>598</th>\n",
       "      <td>935</td>\n",
       "      <td>7</td>\n",
       "      <td>104</td>\n",
       "      <td>17625</td>\n",
       "      <td>17625</td>\n",
       "      <td>17626</td>\n",
       "      <td>2622</td>\n",
       "      <td>2667</td>\n",
       "    </tr>\n",
       "    <tr>\n",
       "      <th>599</th>\n",
       "      <td>950</td>\n",
       "      <td>7</td>\n",
       "      <td>104</td>\n",
       "      <td>17626</td>\n",
       "      <td>17625</td>\n",
       "      <td>17625</td>\n",
       "      <td>2637</td>\n",
       "      <td>2666</td>\n",
       "    </tr>\n",
       "    <tr>\n",
       "      <th>600</th>\n",
       "      <td>938</td>\n",
       "      <td>7</td>\n",
       "      <td>104</td>\n",
       "      <td>17626</td>\n",
       "      <td>17625</td>\n",
       "      <td>17626</td>\n",
       "      <td>2635</td>\n",
       "      <td>2666</td>\n",
       "    </tr>\n",
       "    <tr>\n",
       "      <th>601</th>\n",
       "      <td>913</td>\n",
       "      <td>6</td>\n",
       "      <td>104</td>\n",
       "      <td>17626</td>\n",
       "      <td>17625</td>\n",
       "      <td>17626</td>\n",
       "      <td>2617</td>\n",
       "      <td>2667</td>\n",
       "    </tr>\n",
       "    <tr>\n",
       "      <th>602</th>\n",
       "      <td>925</td>\n",
       "      <td>7</td>\n",
       "      <td>104</td>\n",
       "      <td>17627</td>\n",
       "      <td>17625</td>\n",
       "      <td>17626</td>\n",
       "      <td>2626</td>\n",
       "      <td>2667</td>\n",
       "    </tr>\n",
       "  </tbody>\n",
       "</table>\n",
       "<p>603 rows × 8 columns</p>\n",
       "</div>"
      ]
     },
     "metadata": {},
     "execution_count": 61
    }
   ],
   "metadata": {}
  },
  {
   "cell_type": "code",
   "execution_count": 15,
   "source": [
    "proba = clf.predict_proba(df)"
   ],
   "outputs": [],
   "metadata": {}
  },
  {
   "cell_type": "code",
   "execution_count": 20,
   "source": [
    "import numpy as np"
   ],
   "outputs": [],
   "metadata": {}
  },
  {
   "cell_type": "code",
   "execution_count": 21,
   "source": [
    "np.where(proba.max())"
   ],
   "outputs": [
    {
     "output_type": "execute_result",
     "data": {
      "text/plain": [
       "(array([0], dtype=int64),)"
      ]
     },
     "metadata": {},
     "execution_count": 21
    }
   ],
   "metadata": {}
  },
  {
   "cell_type": "code",
   "execution_count": 39,
   "source": [
    "proba"
   ],
   "outputs": [
    {
     "output_type": "execute_result",
     "data": {
      "text/plain": [
       "array([[1.38265730e-09, 9.99999997e-01, 1.36566767e-09],\n",
       "       [2.34322580e-09, 9.99999996e-01, 1.70816564e-09],\n",
       "       [1.78131244e-09, 9.99999997e-01, 1.56228245e-09],\n",
       "       ...,\n",
       "       [7.04255198e-10, 1.60320180e-10, 9.99999999e-01],\n",
       "       [6.98176362e-10, 1.47709072e-10, 9.99999999e-01],\n",
       "       [7.01933385e-10, 1.53931443e-10, 9.99999999e-01]])"
      ]
     },
     "metadata": {},
     "execution_count": 39
    }
   ],
   "metadata": {}
  },
  {
   "cell_type": "code",
   "execution_count": 41,
   "source": [
    "pd.DataFrame(proba)"
   ],
   "outputs": [
    {
     "output_type": "execute_result",
     "data": {
      "text/plain": [
       "                0             1             2\n",
       "0    1.382657e-09  1.000000e+00  1.365668e-09\n",
       "1    2.343226e-09  1.000000e+00  1.708166e-09\n",
       "2    1.781312e-09  1.000000e+00  1.562282e-09\n",
       "3    3.257879e-09  1.000000e+00  1.780131e-09\n",
       "4    1.522517e-09  1.000000e+00  1.325553e-09\n",
       "..            ...           ...           ...\n",
       "597  7.034317e-10  1.561673e-10  1.000000e+00\n",
       "598  7.095992e-10  1.649287e-10  1.000000e+00\n",
       "599  7.042552e-10  1.603202e-10  1.000000e+00\n",
       "600  6.981764e-10  1.477091e-10  1.000000e+00\n",
       "601  7.019334e-10  1.539314e-10  1.000000e+00\n",
       "\n",
       "[602 rows x 3 columns]"
      ],
      "text/html": [
       "<div>\n",
       "<style scoped>\n",
       "    .dataframe tbody tr th:only-of-type {\n",
       "        vertical-align: middle;\n",
       "    }\n",
       "\n",
       "    .dataframe tbody tr th {\n",
       "        vertical-align: top;\n",
       "    }\n",
       "\n",
       "    .dataframe thead th {\n",
       "        text-align: right;\n",
       "    }\n",
       "</style>\n",
       "<table border=\"1\" class=\"dataframe\">\n",
       "  <thead>\n",
       "    <tr style=\"text-align: right;\">\n",
       "      <th></th>\n",
       "      <th>0</th>\n",
       "      <th>1</th>\n",
       "      <th>2</th>\n",
       "    </tr>\n",
       "  </thead>\n",
       "  <tbody>\n",
       "    <tr>\n",
       "      <th>0</th>\n",
       "      <td>1.382657e-09</td>\n",
       "      <td>1.000000e+00</td>\n",
       "      <td>1.365668e-09</td>\n",
       "    </tr>\n",
       "    <tr>\n",
       "      <th>1</th>\n",
       "      <td>2.343226e-09</td>\n",
       "      <td>1.000000e+00</td>\n",
       "      <td>1.708166e-09</td>\n",
       "    </tr>\n",
       "    <tr>\n",
       "      <th>2</th>\n",
       "      <td>1.781312e-09</td>\n",
       "      <td>1.000000e+00</td>\n",
       "      <td>1.562282e-09</td>\n",
       "    </tr>\n",
       "    <tr>\n",
       "      <th>3</th>\n",
       "      <td>3.257879e-09</td>\n",
       "      <td>1.000000e+00</td>\n",
       "      <td>1.780131e-09</td>\n",
       "    </tr>\n",
       "    <tr>\n",
       "      <th>4</th>\n",
       "      <td>1.522517e-09</td>\n",
       "      <td>1.000000e+00</td>\n",
       "      <td>1.325553e-09</td>\n",
       "    </tr>\n",
       "    <tr>\n",
       "      <th>...</th>\n",
       "      <td>...</td>\n",
       "      <td>...</td>\n",
       "      <td>...</td>\n",
       "    </tr>\n",
       "    <tr>\n",
       "      <th>597</th>\n",
       "      <td>7.034317e-10</td>\n",
       "      <td>1.561673e-10</td>\n",
       "      <td>1.000000e+00</td>\n",
       "    </tr>\n",
       "    <tr>\n",
       "      <th>598</th>\n",
       "      <td>7.095992e-10</td>\n",
       "      <td>1.649287e-10</td>\n",
       "      <td>1.000000e+00</td>\n",
       "    </tr>\n",
       "    <tr>\n",
       "      <th>599</th>\n",
       "      <td>7.042552e-10</td>\n",
       "      <td>1.603202e-10</td>\n",
       "      <td>1.000000e+00</td>\n",
       "    </tr>\n",
       "    <tr>\n",
       "      <th>600</th>\n",
       "      <td>6.981764e-10</td>\n",
       "      <td>1.477091e-10</td>\n",
       "      <td>1.000000e+00</td>\n",
       "    </tr>\n",
       "    <tr>\n",
       "      <th>601</th>\n",
       "      <td>7.019334e-10</td>\n",
       "      <td>1.539314e-10</td>\n",
       "      <td>1.000000e+00</td>\n",
       "    </tr>\n",
       "  </tbody>\n",
       "</table>\n",
       "<p>602 rows × 3 columns</p>\n",
       "</div>"
      ]
     },
     "metadata": {},
     "execution_count": 41
    }
   ],
   "metadata": {}
  },
  {
   "cell_type": "code",
   "execution_count": 62,
   "source": [
    "pred = clf.predict(df)"
   ],
   "outputs": [],
   "metadata": {}
  },
  {
   "cell_type": "code",
   "execution_count": 63,
   "source": [
    "d = {}\r\n",
    "for p in pred:\r\n",
    "    if p not in d.keys():\r\n",
    "        d[p] = 1\r\n",
    "    else:\r\n",
    "        d[p] += 1"
   ],
   "outputs": [],
   "metadata": {}
  },
  {
   "cell_type": "code",
   "execution_count": 64,
   "source": [
    "d"
   ],
   "outputs": [
    {
     "output_type": "execute_result",
     "data": {
      "text/plain": [
       "{'control': 200, 'alcohol': 195, 'lotion': 208}"
      ]
     },
     "metadata": {},
     "execution_count": 64
    }
   ],
   "metadata": {}
  },
  {
   "cell_type": "code",
   "execution_count": 37,
   "source": [
    "d.get('control')"
   ],
   "outputs": [
    {
     "output_type": "execute_result",
     "data": {
      "text/plain": [
       "199"
      ]
     },
     "metadata": {},
     "execution_count": 37
    }
   ],
   "metadata": {}
  },
  {
   "cell_type": "code",
   "execution_count": 38,
   "source": [
    "max(d, key=d.get)"
   ],
   "outputs": [
    {
     "output_type": "execute_result",
     "data": {
      "text/plain": [
       "'lotion'"
      ]
     },
     "metadata": {},
     "execution_count": 38
    }
   ],
   "metadata": {}
  },
  {
   "cell_type": "code",
   "execution_count": null,
   "source": [],
   "outputs": [],
   "metadata": {}
  }
 ],
 "metadata": {
  "orig_nbformat": 4,
  "language_info": {
   "name": "python",
   "version": "3.8.8",
   "mimetype": "text/x-python",
   "codemirror_mode": {
    "name": "ipython",
    "version": 3
   },
   "pygments_lexer": "ipython3",
   "nbconvert_exporter": "python",
   "file_extension": ".py"
  },
  "kernelspec": {
   "name": "python3",
   "display_name": "Python 3.8.8 64-bit ('base': conda)"
  },
  "interpreter": {
   "hash": "75cb2431fcf906a975d25919cf7e48dab511656018bdb303743cdad2c53f6de2"
  }
 },
 "nbformat": 4,
 "nbformat_minor": 2
}